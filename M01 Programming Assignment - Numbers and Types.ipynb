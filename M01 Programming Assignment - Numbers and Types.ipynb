{
 "cells": [
  {
   "cell_type": "markdown",
   "id": "811319af",
   "metadata": {},
   "source": [
    "# Multiply the number of seconds in a minute (60) by the number of minutes in an hour (60)"
   ]
  },
  {
   "cell_type": "code",
   "execution_count": 7,
   "id": "747b5d05",
   "metadata": {},
   "outputs": [],
   "source": [
    "seconds_in_minute = 60\n",
    "minutes_in_hour = 60\n",
    "\n",
    "seconds_in_hour = seconds_in_minute * minutes_in_hour\n"
   ]
  },
  {
   "cell_type": "markdown",
   "id": "268a317f",
   "metadata": {},
   "source": [
    "Print the result"
   ]
  },
  {
   "cell_type": "code",
   "execution_count": 9,
   "id": "7b0d4a75",
   "metadata": {},
   "outputs": [
    {
     "name": "stdout",
     "output_type": "stream",
     "text": [
      "There are 3600 seconds in an hour.\n"
     ]
    }
   ],
   "source": [
    "\n",
    "print(\"There are\", seconds_in_hour, \"seconds in an hour.\")"
   ]
  },
  {
   "cell_type": "markdown",
   "id": "38c092f3",
   "metadata": {},
   "source": [
    "# 3.2 Assign the result from the previous task (seconds in an hour) to a variable called seconds_per_hour."
   ]
  },
  {
   "cell_type": "code",
   "execution_count": 11,
   "id": "abb359ee",
   "metadata": {},
   "outputs": [],
   "source": [
    "seconds_per_hour = seconds_in_minute * minutes_in_hour"
   ]
  },
  {
   "cell_type": "markdown",
   "id": "cf6885d9",
   "metadata": {},
   "source": [
    "Print the result"
   ]
  },
  {
   "cell_type": "code",
   "execution_count": 12,
   "id": "aa3237a3",
   "metadata": {},
   "outputs": [
    {
     "name": "stdout",
     "output_type": "stream",
     "text": [
      "Seconds per hour: 3600\n"
     ]
    }
   ],
   "source": [
    "print(\"Seconds per hour:\", seconds_per_hour)"
   ]
  },
  {
   "cell_type": "markdown",
   "id": "c93d2816",
   "metadata": {},
   "source": [
    "# 3.3 How many seconds are in a day? Use your seconds_per_hour variable"
   ]
  },
  {
   "cell_type": "code",
   "execution_count": 18,
   "id": "3cd7fad8",
   "metadata": {},
   "outputs": [
    {
     "name": "stdout",
     "output_type": "stream",
     "text": [
      "Seconds per day: 2073600\n"
     ]
    }
   ],
   "source": [
    "# Number of hours in a day\n",
    "hours_in_day = 24\n",
    "\n",
    "# Calculate the number of seconds in a day\n",
    "seconds_per_day = seconds_per_hour * hours_in_day\n",
    "\n",
    "# Print the result\n",
    "print(\"Seconds per day:\", seconds_per_day)\n"
   ]
  },
  {
   "cell_type": "markdown",
   "id": "4be27235",
   "metadata": {},
   "source": [
    "# 3.4 Calculate seconds per day again, but this time save the result in a variable called seconds_per_day.\n",
    "\n"
   ]
  },
  {
   "cell_type": "code",
   "execution_count": 19,
   "id": "79dda429",
   "metadata": {},
   "outputs": [
    {
     "name": "stdout",
     "output_type": "stream",
     "text": [
      "Seconds per day: 2073600\n"
     ]
    }
   ],
   "source": [
    "# Number of hours in a day\n",
    "hours_in_day = 24\n",
    "\n",
    "# Calculate the number of seconds in a day\n",
    "seconds_per_day = seconds_per_hour * hours_in_day\n",
    "\n",
    "# Print the result\n",
    "print(\"Seconds per day:\", seconds_per_day)\n"
   ]
  },
  {
   "cell_type": "markdown",
   "id": "5a9ea716",
   "metadata": {},
   "source": [
    "i don't know why i get this result 2073600. the right answer is 86400"
   ]
  },
  {
   "cell_type": "markdown",
   "id": "7bb298c3",
   "metadata": {},
   "source": [
    "# 3.5 Divide seconds_per_day by seconds_per_hour. Use floating-point (/) division."
   ]
  },
  {
   "cell_type": "markdown",
   "id": "e2299d83",
   "metadata": {},
   "source": [
    "Divide seconds_per_day by seconds_per_hour\n"
   ]
  },
  {
   "cell_type": "code",
   "execution_count": 20,
   "id": "d57b0821",
   "metadata": {},
   "outputs": [],
   "source": [
    "division_result = seconds_per_day / seconds_per_hour\n"
   ]
  },
  {
   "cell_type": "markdown",
   "id": "0605d718",
   "metadata": {},
   "source": [
    " Print the result\n"
   ]
  },
  {
   "cell_type": "code",
   "execution_count": 22,
   "id": "f295c461",
   "metadata": {},
   "outputs": [
    {
     "name": "stdout",
     "output_type": "stream",
     "text": [
      "Division result: 24.0\n"
     ]
    }
   ],
   "source": [
    "print(\"Division result:\", division_result)"
   ]
  },
  {
   "cell_type": "markdown",
   "id": "b3ff975f",
   "metadata": {},
   "source": [
    "# 3.6 Divide seconds_per_day by seconds_per_hour, using integer (//) division. Did this number agree with the floating-point value from the previous question, aside from the final .0?"
   ]
  },
  {
   "cell_type": "markdown",
   "id": "fe73eeae",
   "metadata": {},
   "source": [
    "Divide seconds_per_day by seconds_per_hour using integer division\n"
   ]
  },
  {
   "cell_type": "code",
   "execution_count": 23,
   "id": "a792f8f1",
   "metadata": {},
   "outputs": [],
   "source": [
    "integer_division_result = seconds_per_day // seconds_per_hour\n"
   ]
  },
  {
   "cell_type": "markdown",
   "id": "bff83584",
   "metadata": {},
   "source": [
    "Print the result"
   ]
  },
  {
   "cell_type": "code",
   "execution_count": 24,
   "id": "b1209d0b",
   "metadata": {},
   "outputs": [
    {
     "name": "stdout",
     "output_type": "stream",
     "text": [
      "Integer division result: 24\n"
     ]
    }
   ],
   "source": [
    "print(\"Integer division result:\", integer_division_result)"
   ]
  }
 ],
 "metadata": {
  "kernelspec": {
   "display_name": "Python 3 (ipykernel)",
   "language": "python",
   "name": "python3"
  },
  "language_info": {
   "codemirror_mode": {
    "name": "ipython",
    "version": 3
   },
   "file_extension": ".py",
   "mimetype": "text/x-python",
   "name": "python",
   "nbconvert_exporter": "python",
   "pygments_lexer": "ipython3",
   "version": "3.11.4"
  }
 },
 "nbformat": 4,
 "nbformat_minor": 5
}
